{
 "cells": [
  {
   "cell_type": "code",
   "execution_count": 2,
   "id": "bf59151e",
   "metadata": {},
   "outputs": [],
   "source": [
    "from sympy import *\n",
    "from sympy import init_printing\n",
    "init_printing()"
   ]
  },
  {
   "cell_type": "code",
   "execution_count": 3,
   "id": "3ac48f4a",
   "metadata": {},
   "outputs": [],
   "source": [
    "string = '1/(x-1) + 1/(x+1) + x + 1'\n",
    "expr = sympify(string)"
   ]
  },
  {
   "cell_type": "code",
   "execution_count": 4,
   "id": "b53cea79",
   "metadata": {},
   "outputs": [
    {
     "data": {
      "image/png": "[encoded data removed]",
      "text/latex": [
       "$\\displaystyle x + 1 + \\frac{1}{x + 1} + \\frac{1}{x - 1}$"
      ],
      "text/plain": [
       "          1       1  \n",
       "x + 1 + ───── + ─────\n",
       "        x + 1   x - 1"
      ]
     },
     "execution_count": 4,
     "metadata": {},
     "output_type": "execute_result"
    }
   ],
   "source": [
    "expr"
   ]
  },
  {
   "cell_type": "code",
   "execution_count": 6,
   "id": "67fdf09f",
   "metadata": {},
   "outputs": [],
   "source": [
    "sym, = expr.free_symbols"
   ]
  },
  {
   "cell_type": "code",
   "execution_count": 7,
   "id": "c31da26d",
   "metadata": {},
   "outputs": [
    {
     "data": {
      "image/png": "[encoded data removed]",
      "text/latex": [
       "$\\displaystyle x$"
      ],
      "text/plain": [
       "x"
      ]
     },
     "execution_count": 7,
     "metadata": {},
     "output_type": "execute_result"
    }
   ],
   "source": [
    "sym"
   ]
  },
  {
   "cell_type": "code",
   "execution_count": null,
   "id": "bb15e513",
   "metadata": {},
   "outputs": [],
   "source": []
  }
 ],
 "metadata": {
  "kernelspec": {
   "display_name": "Python 3",
   "language": "python",
   "name": "python3"
  },
  "language_info": {
   "codemirror_mode": {
    "name": "ipython",
    "version": 3
   },
   "file_extension": ".py",
   "mimetype": "text/x-python",
   "name": "python",
   "nbconvert_exporter": "python",
   "pygments_lexer": "ipython3",
   "version": "3.8.5"
  }
 },
 "nbformat": 4,
 "nbformat_minor": 5
}
