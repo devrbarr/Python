{
 "cells": [
  {
   "cell_type": "markdown",
   "id": "70642fb6",
   "metadata": {},
   "source": [
    "Example from: https://problemsolvingwithpython.com/10-Symbolic-Math/10.07-Solving-Two-Equations-for-Two-Unknowns/"
   ]
  },
  {
   "cell_type": "code",
   "execution_count": 1,
   "id": "91091b92",
   "metadata": {},
   "outputs": [],
   "source": [
    "from IPython.core.interactiveshell import InteractiveShell\n",
    "InteractiveShell.ast_node_interactivity = \"all\""
   ]
  },
  {
   "cell_type": "code",
   "execution_count": 2,
   "id": "a6f49af4",
   "metadata": {},
   "outputs": [],
   "source": [
    "import sympy as sy"
   ]
  },
  {
   "cell_type": "code",
   "execution_count": 3,
   "id": "0038237f",
   "metadata": {},
   "outputs": [
    {
     "data": {
      "text/plain": [
       "'1.8'"
      ]
     },
     "execution_count": 3,
     "metadata": {},
     "output_type": "execute_result"
    }
   ],
   "source": [
    "sy.__version__"
   ]
  },
  {
   "cell_type": "code",
   "execution_count": 11,
   "id": "88f574d4",
   "metadata": {},
   "outputs": [],
   "source": [
    "x, y = sy.symbols('x y')"
   ]
  },
  {
   "cell_type": "code",
   "execution_count": 12,
   "id": "631c77c6",
   "metadata": {},
   "outputs": [],
   "source": [
    "eq1 = sy.Eq( x + y - 5, 0)\n",
    "eq2 = sy.Eq( x - y + 3, 0)"
   ]
  },
  {
   "cell_type": "code",
   "execution_count": 19,
   "id": "cb7eb9c6",
   "metadata": {},
   "outputs": [
    {
     "name": "stdout",
     "output_type": "stream",
     "text": [
      " x = 1\n",
      " y = 4\n"
     ]
    }
   ],
   "source": [
    "sol_dict = sy.solve( (eq1, eq2), (x,y))\n",
    "print(f' x = {sol_dict[x]}')\n",
    "print(f' y = {sol_dict[y]}')"
   ]
  },
  {
   "cell_type": "code",
   "execution_count": null,
   "id": "1b0db54b",
   "metadata": {},
   "outputs": [],
   "source": []
  }
 ],
 "metadata": {
  "kernelspec": {
   "display_name": "Python 3",
   "language": "python",
   "name": "python3"
  },
  "language_info": {
   "codemirror_mode": {
    "name": "ipython",
    "version": 3
   },
   "file_extension": ".py",
   "mimetype": "text/x-python",
   "name": "python",
   "nbconvert_exporter": "python",
   "pygments_lexer": "ipython3",
   "version": "3.8.5"
  }
 },
 "nbformat": 4,
 "nbformat_minor": 5
}
