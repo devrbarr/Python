{
 "cells": [
  {
   "cell_type": "code",
   "execution_count": 1,
   "id": "80eac290",
   "metadata": {},
   "outputs": [],
   "source": [
    "from sympy import *"
   ]
  },
  {
   "cell_type": "code",
   "execution_count": 3,
   "id": "ede135f4",
   "metadata": {},
   "outputs": [],
   "source": [
    "sym_negx = symbols('-x')"
   ]
  },
  {
   "cell_type": "code",
   "execution_count": 5,
   "id": "1e41c78b",
   "metadata": {},
   "outputs": [],
   "source": [
    "expr_1 = exp(sym_negx) * log(1-sym_negx)*2"
   ]
  },
  {
   "cell_type": "code",
   "execution_count": 6,
   "id": "65358b2a",
   "metadata": {},
   "outputs": [
    {
     "data": {
      "text/latex": [
       "$\\displaystyle 2 e^{-x} \\log{\\left(1 - -x \\right)}$"
      ],
      "text/plain": [
       "2*exp(-x)*log(1 - -x)"
      ]
     },
     "execution_count": 6,
     "metadata": {},
     "output_type": "execute_result"
    }
   ],
   "source": [
    "expr_1"
   ]
  },
  {
   "cell_type": "code",
   "execution_count": 7,
   "id": "8adb962d",
   "metadata": {},
   "outputs": [
    {
     "data": {
      "text/plain": [
       "\"Mul(Integer(2), exp(Symbol('-x')), log(Add(Integer(1), Mul(Integer(-1), Symbol('-x')))))\""
      ]
     },
     "execution_count": 7,
     "metadata": {},
     "output_type": "execute_result"
    }
   ],
   "source": [
    "## Low-level expression representation\n",
    "srepr(expr_1)"
   ]
  },
  {
   "cell_type": "code",
   "execution_count": 8,
   "id": "7ceb3bff",
   "metadata": {},
   "outputs": [
    {
     "data": {
      "text/plain": [
       "{-1, -x, 1, 2}"
      ]
     },
     "execution_count": 8,
     "metadata": {},
     "output_type": "execute_result"
    }
   ],
   "source": [
    "expr_1.atoms()"
   ]
  },
  {
   "cell_type": "code",
   "execution_count": null,
   "id": "0c5f3b07",
   "metadata": {},
   "outputs": [],
   "source": []
  }
 ],
 "metadata": {
  "kernelspec": {
   "display_name": "Python 3",
   "language": "python",
   "name": "python3"
  },
  "language_info": {
   "codemirror_mode": {
    "name": "ipython",
    "version": 3
   },
   "file_extension": ".py",
   "mimetype": "text/x-python",
   "name": "python",
   "nbconvert_exporter": "python",
   "pygments_lexer": "ipython3",
   "version": "3.8.5"
  }
 },
 "nbformat": 4,
 "nbformat_minor": 5
}
