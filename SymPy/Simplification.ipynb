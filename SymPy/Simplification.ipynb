{
 "cells": [
  {
   "cell_type": "code",
   "execution_count": 1,
   "id": "80eac290",
   "metadata": {},
   "outputs": [],
   "source": [
    "from sympy import *"
   ]
  },
  {
   "cell_type": "code",
   "execution_count": 10,
   "id": "0c5f3b07",
   "metadata": {},
   "outputs": [],
   "source": [
    "sym_x, sym_a = symbols('x, a')"
   ]
  },
  {
   "cell_type": "code",
   "execution_count": 11,
   "id": "b216a17a",
   "metadata": {},
   "outputs": [],
   "source": [
    "fx = cos(sym_x)**2 + sin(sym_x)**2"
   ]
  },
  {
   "cell_type": "code",
   "execution_count": 12,
   "id": "b582c7bf",
   "metadata": {},
   "outputs": [
    {
     "data": {
      "text/latex": [
       "$\\displaystyle \\sin^{2}{\\left(x \\right)} + \\cos^{2}{\\left(x \\right)}$"
      ],
      "text/plain": [
       "sin(x)**2 + cos(x)**2"
      ]
     },
     "execution_count": 12,
     "metadata": {},
     "output_type": "execute_result"
    }
   ],
   "source": [
    "fx"
   ]
  },
  {
   "cell_type": "code",
   "execution_count": 13,
   "id": "d7f03bcf",
   "metadata": {},
   "outputs": [
    {
     "data": {
      "text/latex": [
       "$\\displaystyle 1$"
      ],
      "text/plain": [
       "1"
      ]
     },
     "execution_count": 13,
     "metadata": {},
     "output_type": "execute_result"
    }
   ],
   "source": [
    "simplify(fx)"
   ]
  },
  {
   "cell_type": "code",
   "execution_count": 14,
   "id": "d1931993",
   "metadata": {},
   "outputs": [],
   "source": [
    "fx = ( cos(log(sym_a**2)) * tan(log(sym_a**2)))"
   ]
  },
  {
   "cell_type": "code",
   "execution_count": 15,
   "id": "22cde1c5",
   "metadata": {},
   "outputs": [
    {
     "data": {
      "text/latex": [
       "$\\displaystyle \\cos{\\left(\\log{\\left(a^{2} \\right)} \\right)} \\tan{\\left(\\log{\\left(a^{2} \\right)} \\right)}$"
      ],
      "text/plain": [
       "cos(log(a**2))*tan(log(a**2))"
      ]
     },
     "execution_count": 15,
     "metadata": {},
     "output_type": "execute_result"
    }
   ],
   "source": [
    "fx"
   ]
  },
  {
   "cell_type": "code",
   "execution_count": 16,
   "id": "27462196",
   "metadata": {},
   "outputs": [
    {
     "data": {
      "text/latex": [
       "$\\displaystyle \\sin{\\left(\\log{\\left(a^{2} \\right)} \\right)}$"
      ],
      "text/plain": [
       "sin(log(a**2))"
      ]
     },
     "execution_count": 16,
     "metadata": {},
     "output_type": "execute_result"
    }
   ],
   "source": [
    "simplify(fx)"
   ]
  },
  {
   "cell_type": "code",
   "execution_count": 18,
   "id": "8816a4cd",
   "metadata": {},
   "outputs": [],
   "source": [
    "fx = ( (sym_x**2 - 1) / (sym_x-1) )"
   ]
  },
  {
   "cell_type": "code",
   "execution_count": 19,
   "id": "7f4bb6db",
   "metadata": {},
   "outputs": [
    {
     "data": {
      "text/latex": [
       "$\\displaystyle \\frac{x^{2} - 1}{x - 1}$"
      ],
      "text/plain": [
       "(x**2 - 1)/(x - 1)"
      ]
     },
     "execution_count": 19,
     "metadata": {},
     "output_type": "execute_result"
    }
   ],
   "source": [
    "fx"
   ]
  },
  {
   "cell_type": "code",
   "execution_count": 20,
   "id": "bd4f416f",
   "metadata": {},
   "outputs": [
    {
     "data": {
      "text/latex": [
       "$\\displaystyle x + 1$"
      ],
      "text/plain": [
       "x + 1"
      ]
     },
     "execution_count": 20,
     "metadata": {},
     "output_type": "execute_result"
    }
   ],
   "source": [
    "cancel(fx)"
   ]
  },
  {
   "cell_type": "code",
   "execution_count": 21,
   "id": "3350cc7c",
   "metadata": {},
   "outputs": [],
   "source": [
    "fx = ( 1/(sym_x -1) - 1/(sym_x+1) )"
   ]
  },
  {
   "cell_type": "code",
   "execution_count": 22,
   "id": "8f11d79b",
   "metadata": {},
   "outputs": [
    {
     "data": {
      "text/latex": [
       "$\\displaystyle - \\frac{1}{x + 1} + \\frac{1}{x - 1}$"
      ],
      "text/plain": [
       "-1/(x + 1) + 1/(x - 1)"
      ]
     },
     "execution_count": 22,
     "metadata": {},
     "output_type": "execute_result"
    }
   ],
   "source": [
    "fx"
   ]
  },
  {
   "cell_type": "code",
   "execution_count": 23,
   "id": "3118db9c",
   "metadata": {},
   "outputs": [
    {
     "data": {
      "text/latex": [
       "$\\displaystyle \\frac{2}{\\left(x - 1\\right) \\left(x + 1\\right)}$"
      ],
      "text/plain": [
       "2/((x - 1)*(x + 1))"
      ]
     },
     "execution_count": 23,
     "metadata": {},
     "output_type": "execute_result"
    }
   ],
   "source": [
    "together(fx)"
   ]
  },
  {
   "cell_type": "code",
   "execution_count": 25,
   "id": "964eff09",
   "metadata": {},
   "outputs": [],
   "source": [
    "fx = ( 2 / (sym_x**2 -1) )"
   ]
  },
  {
   "cell_type": "code",
   "execution_count": 26,
   "id": "e92bc670",
   "metadata": {},
   "outputs": [
    {
     "data": {
      "text/latex": [
       "$\\displaystyle \\frac{2}{x^{2} - 1}$"
      ],
      "text/plain": [
       "2/(x**2 - 1)"
      ]
     },
     "execution_count": 26,
     "metadata": {},
     "output_type": "execute_result"
    }
   ],
   "source": [
    "fx"
   ]
  },
  {
   "cell_type": "code",
   "execution_count": 27,
   "id": "7038ce77",
   "metadata": {},
   "outputs": [
    {
     "data": {
      "text/latex": [
       "$\\displaystyle - \\frac{1}{x + 1} + \\frac{1}{x - 1}$"
      ],
      "text/plain": [
       "-1/(x + 1) + 1/(x - 1)"
      ]
     },
     "execution_count": 27,
     "metadata": {},
     "output_type": "execute_result"
    }
   ],
   "source": [
    "apart(fx)"
   ]
  }
 ],
 "metadata": {
  "kernelspec": {
   "display_name": "Python 3",
   "language": "python",
   "name": "python3"
  },
  "language_info": {
   "codemirror_mode": {
    "name": "ipython",
    "version": 3
   },
   "file_extension": ".py",
   "mimetype": "text/x-python",
   "name": "python",
   "nbconvert_exporter": "python",
   "pygments_lexer": "ipython3",
   "version": "3.8.5"
  }
 },
 "nbformat": 4,
 "nbformat_minor": 5
}
