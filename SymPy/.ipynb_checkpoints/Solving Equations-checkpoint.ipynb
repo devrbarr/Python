{
 "cells": [
  {
   "cell_type": "code",
   "execution_count": 6,
   "id": "80eac290",
   "metadata": {},
   "outputs": [],
   "source": [
    "from sympy import *"
   ]
  },
  {
   "cell_type": "code",
   "execution_count": 14,
   "id": "5f0830dd",
   "metadata": {},
   "outputs": [],
   "source": [
    "x = symbols('x')"
   ]
  },
  {
   "cell_type": "code",
   "execution_count": 15,
   "id": "77e051ab",
   "metadata": {},
   "outputs": [],
   "source": [
    "fx = x**2 - 1"
   ]
  },
  {
   "cell_type": "code",
   "execution_count": 16,
   "id": "1fba0f22",
   "metadata": {},
   "outputs": [
    {
     "data": {
      "text/latex": [
       "$\\displaystyle x^{2} - 1$"
      ],
      "text/plain": [
       "x**2 - 1"
      ]
     },
     "execution_count": 16,
     "metadata": {},
     "output_type": "execute_result"
    }
   ],
   "source": [
    "fx"
   ]
  },
  {
   "cell_type": "code",
   "execution_count": 17,
   "id": "2885fb91",
   "metadata": {},
   "outputs": [
    {
     "data": {
      "text/plain": [
       "[-1, 1]"
      ]
     },
     "execution_count": 17,
     "metadata": {},
     "output_type": "execute_result"
    }
   ],
   "source": [
    "solve(fx, x)"
   ]
  },
  {
   "cell_type": "code",
   "execution_count": 18,
   "id": "bd719684",
   "metadata": {},
   "outputs": [],
   "source": [
    "m, a = symbols('mass acceleration')"
   ]
  },
  {
   "cell_type": "code",
   "execution_count": 19,
   "id": "0b58bb3b",
   "metadata": {},
   "outputs": [],
   "source": [
    "force = m * a"
   ]
  },
  {
   "cell_type": "code",
   "execution_count": 20,
   "id": "ddd47eea",
   "metadata": {},
   "outputs": [
    {
     "data": {
      "text/latex": [
       "$\\displaystyle acceleration mass$"
      ],
      "text/plain": [
       "acceleration*mass"
      ]
     },
     "execution_count": 20,
     "metadata": {},
     "output_type": "execute_result"
    }
   ],
   "source": [
    "force"
   ]
  },
  {
   "cell_type": "code",
   "execution_count": 21,
   "id": "34823bfc",
   "metadata": {},
   "outputs": [
    {
     "name": "stdout",
     "output_type": "stream",
     "text": [
      "acceleration*mass\n"
     ]
    }
   ],
   "source": [
    "print(force)"
   ]
  },
  {
   "cell_type": "code",
   "execution_count": null,
   "id": "54987ce4",
   "metadata": {},
   "outputs": [],
   "source": []
  }
 ],
 "metadata": {
  "kernelspec": {
   "display_name": "Python 3",
   "language": "python",
   "name": "python3"
  },
  "language_info": {
   "codemirror_mode": {
    "name": "ipython",
    "version": 3
   },
   "file_extension": ".py",
   "mimetype": "text/x-python",
   "name": "python",
   "nbconvert_exporter": "python",
   "pygments_lexer": "ipython3",
   "version": "3.8.5"
  }
 },
 "nbformat": 4,
 "nbformat_minor": 5
}
