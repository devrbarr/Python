{
 "cells": [
  {
   "cell_type": "markdown",
   "id": "e2fea846",
   "metadata": {},
   "source": [
    "Example from: https://problemsolvingwithpython.com/10-Symbolic-Math/10.06-Solving-Equations/"
   ]
  },
  {
   "cell_type": "code",
   "execution_count": 2,
   "id": "fa293734",
   "metadata": {},
   "outputs": [],
   "source": [
    "from IPython.core.interactiveshell import InteractiveShell\n",
    "InteractiveShell.ast_node_interactivity = \"all\""
   ]
  },
  {
   "cell_type": "code",
   "execution_count": 26,
   "id": "fe94e805",
   "metadata": {},
   "outputs": [
    {
     "data": {
      "text/plain": [
       "'1.8'"
      ]
     },
     "execution_count": 26,
     "metadata": {},
     "output_type": "execute_result"
    }
   ],
   "source": [
    "import sympy as sy\n",
    "sy.__version__\n",
    "sy.init_printing()"
   ]
  },
  {
   "cell_type": "code",
   "execution_count": 32,
   "id": "f9abac14",
   "metadata": {},
   "outputs": [],
   "source": [
    "x = sy.symbols('x')"
   ]
  },
  {
   "cell_type": "markdown",
   "id": "ae3ca367",
   "metadata": {},
   "source": [
    "## LaTex Example\n",
    "<br>\n",
    "$f(x) = 3x^5 - 20x^3$\n",
    "<br>\n",
    "$f(x) = x - 4 - 2$"
   ]
  },
  {
   "cell_type": "code",
   "execution_count": 34,
   "id": "2f6ce6b6",
   "metadata": {},
   "outputs": [
    {
     "data": {
      "image/png": "[encoded data removed]",
      "text/latex": [
       "$\\displaystyle 3 x^{5} - 20 x^{3} = 0$"
      ],
      "text/plain": [
       "   5       3    \n",
       "3⋅x  - 20⋅x  = 0"
      ]
     },
     "execution_count": 34,
     "metadata": {},
     "output_type": "execute_result"
    }
   ],
   "source": [
    "fx_0 = sy.Eq( 3*(x**5) - 20*(x**3), 0)\n",
    "fx_0"
   ]
  },
  {
   "cell_type": "code",
   "execution_count": 35,
   "id": "f6fb4947",
   "metadata": {},
   "outputs": [
    {
     "data": {
      "image/png": "[encoded data removed]",
      "text/latex": [
       "$\\displaystyle \\left[ 0, \\  - \\frac{2 \\sqrt{15}}{3}, \\  \\frac{2 \\sqrt{15}}{3}\\right]$"
      ],
      "text/plain": [
       "⎡   -2⋅√15   2⋅√15⎤\n",
       "⎢0, ───────, ─────⎥\n",
       "⎣      3       3  ⎦"
      ]
     },
     "execution_count": 35,
     "metadata": {},
     "output_type": "execute_result"
    }
   ],
   "source": [
    "soln = sy.solve(fx_0)\n",
    "soln"
   ]
  },
  {
   "cell_type": "code",
   "execution_count": 33,
   "id": "992037eb",
   "metadata": {},
   "outputs": [
    {
     "data": {
      "image/png": "[encoded data removed]",
      "text/latex": [
       "$\\displaystyle x - 6$"
      ],
      "text/plain": [
       "x - 6"
      ]
     },
     "execution_count": 33,
     "metadata": {},
     "output_type": "execute_result"
    }
   ],
   "source": [
    "fx = x - 4 - 2\n",
    "fx"
   ]
  },
  {
   "cell_type": "code",
   "execution_count": 29,
   "id": "5c0ed04b",
   "metadata": {},
   "outputs": [],
   "source": [
    "soln1 = sy.solve(fx)"
   ]
  },
  {
   "cell_type": "code",
   "execution_count": 11,
   "id": "aa4b6bbb",
   "metadata": {},
   "outputs": [
    {
     "data": {
      "text/plain": [
       "[6]"
      ]
     },
     "execution_count": 11,
     "metadata": {},
     "output_type": "execute_result"
    },
    {
     "data": {
      "text/latex": [
       "$\\displaystyle 6$"
      ],
      "text/plain": [
       "6"
      ]
     },
     "execution_count": 11,
     "metadata": {},
     "output_type": "execute_result"
    }
   ],
   "source": [
    "soln1 ## Note solve() returns a list. 'soln1' here is a list\n",
    "soln1[0] ## pull value out of the list"
   ]
  },
  {
   "cell_type": "code",
   "execution_count": 13,
   "id": "79898811",
   "metadata": {},
   "outputs": [],
   "source": [
    "y = sy.symbols('y')"
   ]
  },
  {
   "cell_type": "code",
   "execution_count": 19,
   "id": "a767f27c",
   "metadata": {},
   "outputs": [
    {
     "data": {
      "text/latex": [
       "$\\displaystyle y + 11 = 20$"
      ],
      "text/plain": [
       "Eq(y + 11, 20)"
      ]
     },
     "execution_count": 19,
     "metadata": {},
     "output_type": "execute_result"
    }
   ],
   "source": [
    "eq1 = sy.Eq(y+3+8, 20)\n",
    "eq1"
   ]
  },
  {
   "cell_type": "code",
   "execution_count": 21,
   "id": "3e7452f2",
   "metadata": {},
   "outputs": [
    {
     "data": {
      "text/latex": [
       "$\\displaystyle 9$"
      ],
      "text/plain": [
       "9"
      ]
     },
     "execution_count": 21,
     "metadata": {},
     "output_type": "execute_result"
    }
   ],
   "source": [
    "sy.solve(eq1)[0]"
   ]
  },
  {
   "cell_type": "code",
   "execution_count": 23,
   "id": "8b9dc6b9",
   "metadata": {},
   "outputs": [
    {
     "data": {
      "text/latex": [
       "$\\displaystyle x^{2} - 5 x + 6 = 0$"
      ],
      "text/plain": [
       "Eq(x**2 - 5*x + 6, 0)"
      ]
     },
     "execution_count": 23,
     "metadata": {},
     "output_type": "execute_result"
    }
   ],
   "source": [
    "eq2 = sy.Eq(x**2 - 5*x + 6, 0)\n",
    "eq2"
   ]
  },
  {
   "cell_type": "code",
   "execution_count": 25,
   "id": "eb237628",
   "metadata": {},
   "outputs": [
    {
     "data": {
      "text/plain": [
       "[2, 3]"
      ]
     },
     "execution_count": 25,
     "metadata": {},
     "output_type": "execute_result"
    },
    {
     "data": {
      "text/plain": [
       "[{x: 2}, {x: 3}]"
      ]
     },
     "execution_count": 25,
     "metadata": {},
     "output_type": "execute_result"
    }
   ],
   "source": [
    "soln2 = sy.solve(eq2)\n",
    "soln2\n",
    "soln3 = sy.solve(eq2, dict=True)\n",
    "soln3"
   ]
  },
  {
   "cell_type": "markdown",
   "id": "ab695b0e",
   "metadata": {},
   "source": [
    "## Example\n",
    "\n",
    "$x + y + z = 1$\n",
    "<br>\n",
    "$x - y + 2z = 1$\n",
    "<br>\n",
    "$2x - y + 2z = 1$"
   ]
  },
  {
   "cell_type": "code",
   "execution_count": 36,
   "id": "120430dc",
   "metadata": {},
   "outputs": [],
   "source": [
    "x, y, z = sy.symbols('x y z')"
   ]
  },
  {
   "cell_type": "code",
   "execution_count": 40,
   "id": "3092916c",
   "metadata": {},
   "outputs": [
    {
     "data": {
      "image/png": "[encoded data removed]",
      "text/latex": [
       "$\\displaystyle x + y + z = 1$"
      ],
      "text/plain": [
       "x + y + z = 1"
      ]
     },
     "execution_count": 40,
     "metadata": {},
     "output_type": "execute_result"
    },
    {
     "data": {
      "image/png": "[encoded data removed]",
      "text/latex": [
       "$\\displaystyle x - y + 2 z = 1$"
      ],
      "text/plain": [
       "x - y + 2⋅z = 1"
      ]
     },
     "execution_count": 40,
     "metadata": {},
     "output_type": "execute_result"
    },
    {
     "data": {
      "image/png": "[encoded data removed]",
      "text/latex": [
       "$\\displaystyle 2 x - y + 2 z = 1$"
      ],
      "text/plain": [
       "2⋅x - y + 2⋅z = 1"
      ]
     },
     "execution_count": 40,
     "metadata": {},
     "output_type": "execute_result"
    }
   ],
   "source": [
    "fx1 = sy.Eq(x + y + z, 1)\n",
    "fx2 = sy.Eq(x - y + (2*z), 1)\n",
    "fx3 = sy.Eq( (2*x) - y + (2*z), 1)\n",
    "fx1\n",
    "fx2\n",
    "fx3"
   ]
  },
  {
   "cell_type": "code",
   "execution_count": 41,
   "id": "9eaabf7e",
   "metadata": {},
   "outputs": [
    {
     "data": {
      "image/png": "[encoded data removed]",
      "text/latex": [
       "$\\displaystyle \\left\\{ x : 0, \\  y : \\frac{1}{3}, \\  z : \\frac{2}{3}\\right\\}$"
      ],
      "text/plain": [
       "{x: 0, y: 1/3, z: 2/3}"
      ]
     },
     "execution_count": 41,
     "metadata": {},
     "output_type": "execute_result"
    }
   ],
   "source": [
    "soln = sy.solve((fx1, fx2, fx3), (x, y, z))\n",
    "soln"
   ]
  },
  {
   "cell_type": "markdown",
   "id": "2de12c92",
   "metadata": {},
   "source": [
    "### Solve System of Linear Equations"
   ]
  },
  {
   "cell_type": "code",
   "execution_count": 43,
   "id": "f9db7a9c",
   "metadata": {},
   "outputs": [
    {
     "data": {
      "image/png": "[encoded data removed]",
      "text/latex": [
       "$\\displaystyle \\left\\{ x_{1} : \\frac{31}{5}, \\  x_{2} : - \\frac{12}{5}\\right\\}$"
      ],
      "text/plain": [
       "{x₁: 31/5, x₂: -12/5}"
      ]
     },
     "execution_count": 43,
     "metadata": {},
     "output_type": "execute_result"
    }
   ],
   "source": [
    "x1, x2 = sy.symbols('x1 x2')\n",
    "equations = [\n",
    "    sy.Eq(2*x1 + x2, 10),\n",
    "    sy.Eq(x1 - 2*x2, 11)\n",
    "]\n",
    "sy.solve(equations)"
   ]
  },
  {
   "cell_type": "markdown",
   "id": "ba995ed0",
   "metadata": {},
   "source": [
    "### More Linear Equation examples"
   ]
  },
  {
   "cell_type": "markdown",
   "id": "da1190de",
   "metadata": {},
   "source": [
    "solve x for $x^2 - a = 0$"
   ]
  },
  {
   "cell_type": "code",
   "execution_count": 55,
   "id": "29c732e8",
   "metadata": {},
   "outputs": [
    {
     "data": {
      "image/png": "[encoded data removed]",
      "text/latex": [
       "$\\displaystyle \\left( a, \\  x\\right)$"
      ],
      "text/plain": [
       "(a, x)"
      ]
     },
     "execution_count": 55,
     "metadata": {},
     "output_type": "execute_result"
    },
    {
     "data": {
      "image/png": "[encoded data removed]",
      "text/latex": [
       "$\\displaystyle \\left[ - \\sqrt{a}, \\  \\sqrt{a}\\right]$"
      ],
      "text/plain": [
       "[-√a, √a]"
      ]
     },
     "execution_count": 55,
     "metadata": {},
     "output_type": "execute_result"
    }
   ],
   "source": [
    "sy.var('a x')\n",
    "sy.solve(x**2 - a, x)"
   ]
  },
  {
   "cell_type": "markdown",
   "id": "4c117622",
   "metadata": {},
   "source": [
    "solve x for $x^2 - 4a - 4 = 0$"
   ]
  },
  {
   "cell_type": "code",
   "execution_count": 56,
   "id": "cd6cbded",
   "metadata": {},
   "outputs": [
    {
     "data": {
      "image/png": "[encoded data removed]",
      "text/latex": [
       "$\\displaystyle \\left[ - 2 \\sqrt{a + 1}, \\  2 \\sqrt{a + 1}\\right]$"
      ],
      "text/plain": [
       "⎡     _______      _______⎤\n",
       "⎣-2⋅╲╱ a + 1 , 2⋅╲╱ a + 1 ⎦"
      ]
     },
     "execution_count": 56,
     "metadata": {},
     "output_type": "execute_result"
    },
    {
     "data": {
      "image/png": "[encoded data removed]",
      "text/latex": [
       "$\\displaystyle \\left[ \\frac{x^{2}}{4} - 1\\right]$"
      ],
      "text/plain": [
       "⎡ 2    ⎤\n",
       "⎢x     ⎥\n",
       "⎢── - 1⎥\n",
       "⎣4     ⎦"
      ]
     },
     "execution_count": 56,
     "metadata": {},
     "output_type": "execute_result"
    }
   ],
   "source": [
    "sy.solve(x**2 - 4*a - 4, x)\n",
    "sy.solve(x**2 - 4*a - 4, a)"
   ]
  },
  {
   "cell_type": "markdown",
   "id": "635d9364",
   "metadata": {},
   "source": [
    "## Solving System of Linear Equations"
   ]
  },
  {
   "cell_type": "code",
   "execution_count": 58,
   "id": "41788bd9",
   "metadata": {},
   "outputs": [
    {
     "data": {
      "image/png": "[encoded data removed]",
      "text/latex": [
       "$\\displaystyle \\left( x, \\  y\\right)$"
      ],
      "text/plain": [
       "(x, y)"
      ]
     },
     "execution_count": 58,
     "metadata": {},
     "output_type": "execute_result"
    }
   ],
   "source": [
    "sy.var('x y')"
   ]
  },
  {
   "cell_type": "code",
   "execution_count": 59,
   "id": "1b1126dd",
   "metadata": {},
   "outputs": [
    {
     "data": {
      "image/png": "[encoded data removed]",
      "text/latex": [
       "$\\displaystyle \\left\\{ x : -3, \\  y : 1\\right\\}$"
      ],
      "text/plain": [
       "{x: -3, y: 1}"
      ]
     },
     "execution_count": 59,
     "metadata": {},
     "output_type": "execute_result"
    }
   ],
   "source": [
    "sy.solve( (x + 5*y - 2, -3*x + 6*y - 15), x, y)"
   ]
  },
  {
   "cell_type": "markdown",
   "id": "2b3c53a5",
   "metadata": {},
   "source": [
    "## Solving Linear Equations Using SymPy.linsolve()\n",
    "\n",
    "note: from sympy.solvers.solveset import linsolve\n",
    "<br>\n",
    "Solve:\n",
    "<br>\n",
    "$x + 5y - 2 = 0$\n",
    "<br>\n",
    "$-3x - 6y -15 = 0$"
   ]
  },
  {
   "cell_type": "code",
   "execution_count": 60,
   "id": "93966c6f",
   "metadata": {},
   "outputs": [],
   "source": [
    "x, y = sy.symbols('x y')"
   ]
  },
  {
   "cell_type": "code",
   "execution_count": 63,
   "id": "ee06483b",
   "metadata": {},
   "outputs": [
    {
     "data": {
      "image/png": "[encoded data removed]",
      "text/latex": [
       "$\\displaystyle \\left\\{\\left( -3, \\  1\\right)\\right\\}$"
      ],
      "text/plain": [
       "{(-3, 1)}"
      ]
     },
     "execution_count": 63,
     "metadata": {},
     "output_type": "execute_result"
    }
   ],
   "source": [
    "sy.solvers.linsolve( [x + 5*y -2, -3*x + 6*y -15], (x,y))"
   ]
  },
  {
   "cell_type": "code",
   "execution_count": null,
   "id": "745ae89e",
   "metadata": {},
   "outputs": [],
   "source": []
  }
 ],
 "metadata": {
  "kernelspec": {
   "display_name": "Python 3",
   "language": "python",
   "name": "python3"
  },
  "language_info": {
   "codemirror_mode": {
    "name": "ipython",
    "version": 3
   },
   "file_extension": ".py",
   "mimetype": "text/x-python",
   "name": "python",
   "nbconvert_exporter": "python",
   "pygments_lexer": "ipython3",
   "version": "3.8.5"
  }
 },
 "nbformat": 4,
 "nbformat_minor": 5
}
