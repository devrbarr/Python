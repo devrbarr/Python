{
 "cells": [
  {
   "cell_type": "code",
   "execution_count": 2,
   "id": "d5803d05",
   "metadata": {},
   "outputs": [],
   "source": [
    "import sympy"
   ]
  },
  {
   "cell_type": "code",
   "execution_count": null,
   "id": "7eaaf55b",
   "metadata": {},
   "outputs": [],
   "source": [
    "sympy.test()"
   ]
  },
  {
   "cell_type": "code",
   "execution_count": null,
   "id": "a1cd951b",
   "metadata": {},
   "outputs": [],
   "source": []
  }
 ],
 "metadata": {
  "kernelspec": {
   "display_name": "Python 3",
   "language": "python",
   "name": "python3"
  },
  "language_info": {
   "codemirror_mode": {
    "name": "ipython",
    "version": 3
   },
   "file_extension": ".py",
   "mimetype": "text/x-python",
   "name": "python",
   "nbconvert_exporter": "python",
   "pygments_lexer": "ipython3",
   "version": "3.8.5"
  }
 },
 "nbformat": 4,
 "nbformat_minor": 5
}
