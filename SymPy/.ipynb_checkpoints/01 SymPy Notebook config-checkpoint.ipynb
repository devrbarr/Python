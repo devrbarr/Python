{
 "cells": [
  {
   "cell_type": "code",
   "execution_count": 1,
   "id": "e8a45eb2",
   "metadata": {},
   "outputs": [
    {
     "name": "stderr",
     "output_type": "stream",
     "text": [
      "C:\\ProgramData\\Anaconda3\\lib\\site-packages\\sympy\\interactive\\ipythonprinting.py:43: SymPyDeprecationWarning: \n",
      "\n",
      "using %load_ext sympy.interactive.ipythonprinting has been deprecated\n",
      "since SymPy 0.7.3. Use from sympy import init_printing ;\n",
      "init_printing() instead. See\n",
      "https://github.com/sympy/sympy/issues/7013 for more info.\n",
      "\n",
      "  SymPyDeprecationWarning(\n"
     ]
    }
   ],
   "source": [
    "%load_ext sympy.interactive.ipythonprinting\n",
    "from sympy import *"
   ]
  },
  {
   "cell_type": "code",
   "execution_count": 5,
   "id": "0f6e0927",
   "metadata": {},
   "outputs": [],
   "source": [
    "x, y, z = symbols('x y z')"
   ]
  },
  {
   "cell_type": "code",
   "execution_count": 6,
   "id": "e0cdbf8c",
   "metadata": {},
   "outputs": [
    {
     "data": {
      "image/png": "[encoded data removed]",
      "text/latex": [
       "$\\displaystyle \\left(\\frac{e^{x}}{y!}\\right)^{z}$"
      ],
      "text/plain": [
       "    z\n",
       "⎛ x⎞ \n",
       "⎜ℯ ⎟ \n",
       "⎜──⎟ \n",
       "⎝y!⎠ "
      ]
     },
     "execution_count": 6,
     "metadata": {},
     "output_type": "execute_result"
    }
   ],
   "source": [
    "(exp(x) / factorial(y)) ** z"
   ]
  },
  {
   "cell_type": "code",
   "execution_count": null,
   "id": "2d068f63",
   "metadata": {},
   "outputs": [],
   "source": []
  }
 ],
 "metadata": {
  "kernelspec": {
   "display_name": "Python 3",
   "language": "python",
   "name": "python3"
  },
  "language_info": {
   "codemirror_mode": {
    "name": "ipython",
    "version": 3
   },
   "file_extension": ".py",
   "mimetype": "text/x-python",
   "name": "python",
   "nbconvert_exporter": "python",
   "pygments_lexer": "ipython3",
   "version": "3.8.5"
  }
 },
 "nbformat": 4,
 "nbformat_minor": 5
}
