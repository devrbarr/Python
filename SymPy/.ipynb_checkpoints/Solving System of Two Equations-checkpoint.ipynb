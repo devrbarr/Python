{
 "cells": [
  {
   "cell_type": "markdown",
   "id": "70642fb6",
   "metadata": {},
   "source": [
    "Example from: https://problemsolvingwithpython.com/10-Symbolic-Math/10.06-Solving-Equations/"
   ]
  },
  {
   "cell_type": "code",
   "execution_count": 2,
   "id": "91091b92",
   "metadata": {},
   "outputs": [],
   "source": [
    "from IPython.core.interactiveshell import InteractiveShell\n",
    "InteractiveShell.ast_node_interactivity = \"all\""
   ]
  },
  {
   "cell_type": "code",
   "execution_count": 3,
   "id": "a6f49af4",
   "metadata": {},
   "outputs": [],
   "source": [
    "import sympy as sy"
   ]
  },
  {
   "cell_type": "code",
   "execution_count": 4,
   "id": "0038237f",
   "metadata": {},
   "outputs": [
    {
     "data": {
      "text/plain": [
       "'1.8'"
      ]
     },
     "execution_count": 4,
     "metadata": {},
     "output_type": "execute_result"
    }
   ],
   "source": [
    "sy.__version__"
   ]
  },
  {
   "cell_type": "code",
   "execution_count": 5,
   "id": "957d505a",
   "metadata": {},
   "outputs": [],
   "source": [
    "x = sy.symbols('x')"
   ]
  },
  {
   "cell_type": "code",
   "execution_count": 6,
   "id": "31b523a4",
   "metadata": {},
   "outputs": [],
   "source": [
    "fx = x - 4 - 2"
   ]
  },
  {
   "cell_type": "code",
   "execution_count": 8,
   "id": "9a8016b0",
   "metadata": {},
   "outputs": [],
   "source": [
    "soln1 = sy.solve(fx)"
   ]
  },
  {
   "cell_type": "code",
   "execution_count": 11,
   "id": "400d1536",
   "metadata": {},
   "outputs": [
    {
     "data": {
      "text/plain": [
       "[6]"
      ]
     },
     "execution_count": 11,
     "metadata": {},
     "output_type": "execute_result"
    },
    {
     "data": {
      "text/latex": [
       "$\\displaystyle 6$"
      ],
      "text/plain": [
       "6"
      ]
     },
     "execution_count": 11,
     "metadata": {},
     "output_type": "execute_result"
    }
   ],
   "source": [
    "soln1 ## Note solve() returns a list. 'soln1' here is a list\n",
    "soln1[0] ## pull value out of the list"
   ]
  },
  {
   "cell_type": "code",
   "execution_count": 13,
   "id": "4eddd6d7",
   "metadata": {},
   "outputs": [],
   "source": [
    "y = sy.symbols('y')"
   ]
  },
  {
   "cell_type": "code",
   "execution_count": 19,
   "id": "7156cfd1",
   "metadata": {},
   "outputs": [
    {
     "data": {
      "text/latex": [
       "$\\displaystyle y + 11 = 20$"
      ],
      "text/plain": [
       "Eq(y + 11, 20)"
      ]
     },
     "execution_count": 19,
     "metadata": {},
     "output_type": "execute_result"
    }
   ],
   "source": [
    "eq1 = sy.Eq(y+3+8, 20)\n",
    "eq1"
   ]
  },
  {
   "cell_type": "code",
   "execution_count": 21,
   "id": "62a1d833",
   "metadata": {},
   "outputs": [
    {
     "data": {
      "text/latex": [
       "$\\displaystyle 9$"
      ],
      "text/plain": [
       "9"
      ]
     },
     "execution_count": 21,
     "metadata": {},
     "output_type": "execute_result"
    }
   ],
   "source": [
    "sy.solve(eq1)[0]"
   ]
  },
  {
   "cell_type": "code",
   "execution_count": 23,
   "id": "7287acb5",
   "metadata": {},
   "outputs": [
    {
     "data": {
      "text/latex": [
       "$\\displaystyle x^{2} - 5 x + 6 = 0$"
      ],
      "text/plain": [
       "Eq(x**2 - 5*x + 6, 0)"
      ]
     },
     "execution_count": 23,
     "metadata": {},
     "output_type": "execute_result"
    }
   ],
   "source": [
    "eq2 = sy.Eq(x**2 - 5*x + 6, 0)\n",
    "eq2"
   ]
  },
  {
   "cell_type": "code",
   "execution_count": 25,
   "id": "4c5c5b1d",
   "metadata": {},
   "outputs": [
    {
     "data": {
      "text/plain": [
       "[2, 3]"
      ]
     },
     "execution_count": 25,
     "metadata": {},
     "output_type": "execute_result"
    },
    {
     "data": {
      "text/plain": [
       "[{x: 2}, {x: 3}]"
      ]
     },
     "execution_count": 25,
     "metadata": {},
     "output_type": "execute_result"
    }
   ],
   "source": [
    "soln2 = sy.solve(eq2)\n",
    "soln2\n",
    "soln3 = sy.solve(eq2, dict=True)\n",
    "soln3"
   ]
  },
  {
   "cell_type": "code",
   "execution_count": null,
   "id": "1f2ea186",
   "metadata": {},
   "outputs": [],
   "source": []
  }
 ],
 "metadata": {
  "kernelspec": {
   "display_name": "Python 3",
   "language": "python",
   "name": "python3"
  },
  "language_info": {
   "codemirror_mode": {
    "name": "ipython",
    "version": 3
   },
   "file_extension": ".py",
   "mimetype": "text/x-python",
   "name": "python",
   "nbconvert_exporter": "python",
   "pygments_lexer": "ipython3",
   "version": "3.8.5"
  }
 },
 "nbformat": 4,
 "nbformat_minor": 5
}
