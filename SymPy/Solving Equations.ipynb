{
 "cells": [
  {
   "cell_type": "code",
   "execution_count": 6,
   "id": "80eac290",
   "metadata": {},
   "outputs": [],
   "source": [
    "from sympy import *"
   ]
  },
  {
   "cell_type": "code",
   "execution_count": 14,
   "id": "90c6f4ec",
   "metadata": {},
   "outputs": [],
   "source": [
    "x = symbols('x')"
   ]
  },
  {
   "cell_type": "code",
   "execution_count": 15,
   "id": "b5d72c5e",
   "metadata": {},
   "outputs": [],
   "source": [
    "fx = x**2 - 1"
   ]
  },
  {
   "cell_type": "code",
   "execution_count": 16,
   "id": "03a42f79",
   "metadata": {},
   "outputs": [
    {
     "data": {
      "text/latex": [
       "$\\displaystyle x^{2} - 1$"
      ],
      "text/plain": [
       "x**2 - 1"
      ]
     },
     "execution_count": 16,
     "metadata": {},
     "output_type": "execute_result"
    }
   ],
   "source": [
    "fx"
   ]
  },
  {
   "cell_type": "code",
   "execution_count": 17,
   "id": "d599e4e8",
   "metadata": {},
   "outputs": [
    {
     "data": {
      "text/plain": [
       "[-1, 1]"
      ]
     },
     "execution_count": 17,
     "metadata": {},
     "output_type": "execute_result"
    }
   ],
   "source": [
    "solve(fx, x)"
   ]
  },
  {
   "cell_type": "code",
   "execution_count": 18,
   "id": "5399a42b",
   "metadata": {},
   "outputs": [],
   "source": [
    "m, a = symbols('mass acceleration')"
   ]
  },
  {
   "cell_type": "code",
   "execution_count": 19,
   "id": "730f56c5",
   "metadata": {},
   "outputs": [],
   "source": [
    "force = m * a"
   ]
  },
  {
   "cell_type": "code",
   "execution_count": 20,
   "id": "e4191b23",
   "metadata": {},
   "outputs": [
    {
     "data": {
      "text/latex": [
       "$\\displaystyle acceleration mass$"
      ],
      "text/plain": [
       "acceleration*mass"
      ]
     },
     "execution_count": 20,
     "metadata": {},
     "output_type": "execute_result"
    }
   ],
   "source": [
    "force"
   ]
  },
  {
   "cell_type": "code",
   "execution_count": 21,
   "id": "1dcf6642",
   "metadata": {},
   "outputs": [
    {
     "name": "stdout",
     "output_type": "stream",
     "text": [
      "acceleration*mass\n"
     ]
    }
   ],
   "source": [
    "print(force)"
   ]
  },
  {
   "cell_type": "code",
   "execution_count": 24,
   "id": "b18d4b09",
   "metadata": {},
   "outputs": [],
   "source": [
    "x, y, i = symbols('x y i')"
   ]
  },
  {
   "cell_type": "code",
   "execution_count": 25,
   "id": "f666f316",
   "metadata": {},
   "outputs": [
    {
     "data": {
      "text/latex": [
       "$\\displaystyle 4 x + 10 y$"
      ],
      "text/plain": [
       "4*x + 10*y"
      ]
     },
     "execution_count": 25,
     "metadata": {},
     "output_type": "execute_result"
    }
   ],
   "source": [
    "summation(x + i*y, (i, 1, 4))"
   ]
  },
  {
   "cell_type": "code",
   "execution_count": 26,
   "id": "f73d5091",
   "metadata": {},
   "outputs": [
    {
     "data": {
      "text/latex": [
       "$\\displaystyle x \\left(x + y\\right) \\left(x + 2 y\\right) \\left(x + 3 y\\right) \\left(x + 4 y\\right) \\left(x + 5 y\\right)$"
      ],
      "text/plain": [
       "x*(x + y)*(x + 2*y)*(x + 3*y)*(x + 4*y)*(x + 5*y)"
      ]
     },
     "execution_count": 26,
     "metadata": {},
     "output_type": "execute_result"
    }
   ],
   "source": [
    "product(x + i*y, (i, 0, 5))"
   ]
  },
  {
   "cell_type": "code",
   "execution_count": null,
   "id": "e2ff0f5f",
   "metadata": {},
   "outputs": [],
   "source": []
  }
 ],
 "metadata": {
  "kernelspec": {
   "display_name": "Python 3",
   "language": "python",
   "name": "python3"
  },
  "language_info": {
   "codemirror_mode": {
    "name": "ipython",
    "version": 3
   },
   "file_extension": ".py",
   "mimetype": "text/x-python",
   "name": "python",
   "nbconvert_exporter": "python",
   "pygments_lexer": "ipython3",
   "version": "3.8.5"
  }
 },
 "nbformat": 4,
 "nbformat_minor": 5
}
